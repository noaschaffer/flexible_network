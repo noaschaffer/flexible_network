{
 "nbformat": 4,
 "nbformat_minor": 0,
 "metadata": {
  "colab": {
   "name": "run.ipynb",
   "provenance": [],
   "collapsed_sections": [],
   "authorship_tag": "ABX9TyPi8xzMplA3bMEut00CwlS3",
   "include_colab_link": true
  },
  "kernelspec": {
   "name": "pycharm-2ee34874",
   "language": "python",
   "display_name": "PyCharm (flexible_network)"
  },
  "pycharm": {
   "stem_cell": {
    "cell_type": "raw",
    "source": [],
    "metadata": {
     "collapsed": false
    }
   }
  }
 },
 "cells": [
  {
   "cell_type": "markdown",
   "metadata": {
    "id": "view-in-github",
    "colab_type": "text"
   },
   "source": [
    "<a href=\"https://colab.research.google.com/github/noaschaffer/flexible_network/blob/main/run.ipynb\" target=\"_parent\"><img src=\"https://colab.research.google.com/assets/colab-badge.svg\" alt=\"Open In Colab\"/></a>"
   ]
  },
  {
   "cell_type": "code",
   "metadata": {
    "id": "x7HiVrbc0pa0",
    "pycharm": {
     "is_executing": true
    }
   },
   "source": [
    "from net import Encoder\n",
    "from net import Transition\n",
    "from data import RectsData\n",
    "from data import IMAGE_SIZE, FRAME_NUM\n",
    "\n",
    "import torch\n",
    "import itertools\n",
    "import matplotlib.pyplot as plt\n",
    "import numpy as np\n",
    "\n",
    "\n",
    "def loss_function(e_x_t, t_e_x_t, e_x_t1):\n",
    "    loss = 0\n",
    "    all_e = torch.cat((e_x_t, e_x_t1[-1].unsqueeze(0)))\n",
    "    for i in range(len(t_e_x_t)):\n",
    "        loss += -torch.log(torch.exp(-(t_e_x_t[i] - e_x_t1[i]) ** 2) / torch.sum(torch.exp(-(t_e_x_t[i] - all_e) ** 2)))\n",
    "    loss = loss / len(t_e_x_t)\n",
    "    return loss\n",
    "\n",
    "\n",
    "def train(encoder, transition, dataset, optimizer):\n",
    "    encoder.train()\n",
    "    transition.train()\n",
    "    clip_num = 0\n",
    "    errors = []\n",
    "    for clip in dataset.data:\n",
    "        print('clip number {}'.format(clip_num))\n",
    "        clip_num += 1\n",
    "        clip_batches = []\n",
    "        initial = 0\n",
    "        for i in range(NUM_OF_BATCHES):  # create mini batches for each clip\n",
    "            mini_batch = clip[initial: initial + HP_DICT['batch_size']]\n",
    "            clip_batches.append(mini_batch)\n",
    "            initial += HP_DICT['step_size']\n",
    "\n",
    "        for i in range(NUM_OF_BATCHES):\n",
    "            x_t = clip_batches[i][:-1].view(-1, 1, IMAGE_SIZE, IMAGE_SIZE)\n",
    "            x_t1 = clip_batches[i][1:].view(-1, 1, IMAGE_SIZE, IMAGE_SIZE)\n",
    "\n",
    "            for training_step in range(HP_DICT['training_steps']):\n",
    "                optimizer.zero_grad()\n",
    "                e_x_t = encoder(x_t)\n",
    "                t_e_x_t = transition(e_x_t)\n",
    "                e_x_t1 = encoder(x_t1)\n",
    "                loss = loss_function(e_x_t, t_e_x_t, e_x_t1)\n",
    "                print(loss.item())\n",
    "                errors.append(loss.item())\n",
    "                loss.backward()\n",
    "                optimizer.step()\n",
    "            eval(encoder, transition, clip, i)\n",
    "    return errors\n",
    "\n",
    "\n",
    "def eval(encoder, transition, clip, batch_index):\n",
    "    plt.clf()\n",
    "    x_t = clip.view(-1, 1, IMAGE_SIZE, IMAGE_SIZE)\n",
    "    e_x_t = encoder(x_t)\n",
    "    t_e_x_t = transition(e_x_t).detach().flatten().numpy()\n",
    "    e_x_t = e_x_t.detach().flatten().numpy()\n",
    "    plt.plot(e_x_t, 'b.', label='encoder output')\n",
    "    plt.plot(np.arange(1, len(e_x_t)), t_e_x_t[:-1], 'r.', label='prediction')\n",
    "    plt.xlabel('frame')\n",
    "    plt.ylabel('representation')\n",
    "    y_lim = plt.gca().get_ylim()\n",
    "    plt.fill_between(\n",
    "        np.arange(batch_index * HP_DICT['step_size'], batch_index * HP_DICT['step_size'] + HP_DICT['batch_size']),\n",
    "        y_lim[0], y_lim[1], color='orange', alpha=0.25, label='training frame')\n",
    "    plt.legend()\n",
    "    plt.show()\n",
    "    plt.pause(0.1)\n",
    "\n",
    "\n",
    "def experiment():\n",
    "    E_net = Encoder().double()\n",
    "    T_net = Transition().double()\n",
    "\n",
    "    optimizer_predict = torch.optim.RMSprop(itertools.chain(E_net.parameters(), T_net.parameters()),\n",
    "                                            lr=HP_DICT['learning_rate'])\n",
    "    data = RectsData(HP_DICT)\n",
    "    if HP_DICT['GPU']:\n",
    "        E_net = E_net.to('cuda')\n",
    "        T_net = T_net.to('cuda')\n",
    "        data = data.to('cuda')\n",
    "    plt.ion()\n",
    "    return train(E_net, T_net, data, optimizer_predict)\n",
    "\n",
    "\n"
   ],
   "execution_count": null,
   "outputs": [
    {
     "name": "stdout",
     "text": [
      "clip number 0\n",
      "1.9417942066782807\n",
      "3.436908554670263\n",
      "1.986989131897622\n",
      "2.0585444395012185\n",
      "1.9637777782849437\n",
      "1.9513074864537303\n",
      "1.9467240628088336\n",
      "1.9373381918116042\n",
      "1.9285353398253555\n",
      "1.9235459050491635\n",
      "1.9104012404977757\n",
      "1.895578714730097\n",
      "1.8957807925411156\n",
      "1.8722889654012926\n",
      "1.884533686887486\n",
      "1.9009221958644311\n",
      "1.8798577541137351\n",
      "1.862989822294497\n",
      "1.938060040414653\n",
      "1.9000251693571428\n",
      "1.8722820355124832\n",
      "1.910635174083937\n",
      "1.8816511743432578\n",
      "1.8603227036334455\n",
      "1.903133634578382\n",
      "1.872893713798024\n",
      "1.8756904312752634\n",
      "1.8953401548061521\n",
      "1.8697177776434646\n",
      "1.8532265962554213\n",
      "1.9818153898629722\n",
      "1.8931363630958142\n",
      "1.8672024480132527\n",
      "clip number 1\n",
      "1.9426130799348351\n",
      "2.103353708303939\n",
      "1.904190732214995\n",
      "1.9400832839699227\n",
      "1.906084921224312\n",
      "1.8777863326161273\n",
      "1.9220060044759488\n",
      "1.8946899767476506\n",
      "1.8692993243111402\n",
      "1.9109032827970711\n",
      "1.8862900635565278\n",
      "1.8585967708461772\n",
      "1.9168261405603104\n",
      "1.8852076449715713\n",
      "1.8602145597036905\n",
      "1.924783389901697\n",
      "1.8783471616546947\n",
      "1.8538210137004787\n",
      "1.937412627462783\n",
      "1.8821047321370246\n",
      "1.8587508548684806\n",
      "1.9455823377581458\n",
      "1.8816789466931967\n",
      "1.860423778205628\n",
      "1.9554982189660997\n",
      "1.881406263815631\n",
      "1.861270746380655\n",
      "1.9610441353130978\n",
      "1.8809463154732209\n",
      "1.8606985755696808\n",
      "1.9602343162285079\n",
      "1.8834433485629984\n",
      "1.862655846170215\n",
      "clip number 2\n",
      "2.033232442900025\n",
      "2.5182689770911693\n",
      "1.8555501194690507\n",
      "1.899889704693318\n",
      "1.8757693934441635\n",
      "1.8617039545442473\n",
      "1.9006207396286507\n",
      "1.8796534116783246\n",
      "1.8652534837166233\n",
      "1.90380867406418\n",
      "1.8782849481715604\n",
      "1.8638365155547423\n",
      "1.9100582661278382\n",
      "1.8821548776160968\n",
      "1.8691169676489856\n",
      "1.8959198989850596\n",
      "1.8706109037267284\n",
      "1.8600912323803929\n",
      "1.8845039522174805\n",
      "1.85987136797109\n",
      "1.8472530607174058\n",
      "1.8953481186880012\n",
      "1.8635993438953937\n",
      "1.8476981643502084\n",
      "1.891855140843427\n",
      "1.8593017148702442\n",
      "1.8443719992776773\n",
      "1.8950557691089085\n",
      "1.861102017483666\n",
      "1.8428307470576757\n",
      "1.9125522992019668\n",
      "1.8633361334874445\n",
      "1.843478515960195\n",
      "clip number 3\n",
      "1.9298672507341668\n",
      "2.3703294821265506\n",
      "2.0739474863723553\n",
      "1.9024360247004466\n",
      "1.8678369667176427\n",
      "1.8513918145855897\n",
      "1.9086741998414116\n",
      "1.8824149474901253\n",
      "1.863610035834589\n",
      "1.9148881535401394\n",
      "1.8822410510127379\n",
      "1.863888783277515\n",
      "1.9117840814981644\n",
      "1.8748936011809885\n",
      "1.8606088691486147\n",
      "1.9079368635691907\n",
      "1.8652937693205551\n",
      "1.8513153672561904\n",
      "1.9093886876082038\n",
      "1.8644213131077638\n",
      "1.8478386331068668\n",
      "1.9275060829024282\n",
      "1.8685328420547223\n",
      "1.8498597365651743\n",
      "1.9449015903375042\n",
      "1.8670886714270758\n",
      "1.8493403967570075\n",
      "1.9545147713522308\n",
      "1.8644238035978364\n",
      "1.8456488680149878\n",
      "1.9555419764986954\n",
      "1.8695132011471012\n",
      "1.8418422640208745\n",
      "clip number 4\n",
      "2.0155099127038905\n",
      "2.106325672672557\n",
      "1.887373578491326\n",
      "1.9033012258143642\n",
      "1.864772143846868\n",
      "1.8485190186243763\n",
      "1.8994039219435441\n",
      "1.8624342141786265\n",
      "1.8471084658943615\n",
      "1.9092504123814484\n",
      "1.8656889125952627\n",
      "1.8540735444072187\n",
      "1.903030752792656\n",
      "1.880750340770506\n",
      "1.8720023067443197\n",
      "1.9321696024434978\n",
      "1.865921154264474\n",
      "1.8541343061727378\n",
      "1.888167704196203\n",
      "1.8594961408652972\n",
      "1.84639327181278\n",
      "1.9010737922338568\n",
      "1.8739091657831413\n",
      "1.8582361274854389\n",
      "1.8857269980825027\n",
      "1.8593337810921362\n",
      "1.8449896902674159\n",
      "1.8875637354103574\n",
      "1.8520491927011695\n",
      "1.838324871705126\n",
      "1.8911709385361686\n",
      "1.8475979583883844\n",
      "1.8328257165925432\n",
      "clip number 5\n",
      "2.2827126455420568\n",
      "1.9588172379844526\n",
      "1.8489920648030471\n",
      "1.8980220445308007\n",
      "1.8607062953341824\n",
      "1.8466604956261758\n",
      "1.911359216211455\n",
      "1.8710458866078437\n",
      "1.8546212227444228\n",
      "1.9276206189821872\n",
      "1.8705728129945773\n",
      "1.8534169884103437\n",
      "1.9648191686450664\n",
      "1.8799734486385136\n",
      "1.8624562725876437\n",
      "1.972036456477113\n",
      "1.88186588045383\n",
      "1.864344036256475\n",
      "1.8884303037648655\n",
      "1.8662584177156096\n",
      "1.8516952790361447\n",
      "1.8878532251109121\n",
      "1.8666639032905732\n",
      "1.8511523902043854\n",
      "1.8821041330004207\n",
      "1.8589580761364903\n",
      "1.8449663606762072\n",
      "1.8702378709810519\n",
      "1.844825186628252\n",
      "1.8334644339710622\n",
      "1.8682749755638144\n",
      "1.8367862862564521\n",
      "1.8238132377867675\n",
      "clip number 6\n",
      "2.623950353892576\n",
      "1.852134684875745\n",
      "1.836022122474418\n",
      "1.9058027816484933\n",
      "1.866273617136157\n",
      "1.8494307575181075\n",
      "1.9362980978847124\n",
      "1.8861939168402255\n",
      "1.8665693190150046\n",
      "1.9485687359387682\n",
      "1.8976966862752673\n",
      "1.8772987817994817\n",
      "1.9498313336451716\n",
      "1.9004894553676113\n",
      "1.8790442465452708\n",
      "1.8684339593369506\n",
      "1.8398128230486597\n",
      "1.8189251685531034\n",
      "1.8151098224146018\n",
      "1.8610514201515764\n",
      "1.894653185414173\n",
      "1.8335158467067785\n",
      "1.7666182244952982\n",
      "1.7367783412503952\n",
      "1.803679521003773\n",
      "1.7955856355975806\n",
      "1.6818075242259767\n",
      "1.7226915928097382\n",
      "1.674977696219628\n",
      "1.6279776718048957\n"
     ],
     "output_type": "stream"
    },
    {
     "data": {
      "text/plain": "<Figure size 640x480 with 1 Axes>"
     },
     "metadata": {},
     "output_type": "display_data"
    },
    {
     "data": {
      "text/plain": "<Figure size 640x480 with 1 Axes>"
     },
     "metadata": {},
     "output_type": "display_data"
    },
    {
     "data": {
      "text/plain": "<Figure size 640x480 with 1 Axes>"
     },
     "metadata": {},
     "output_type": "display_data"
    },
    {
     "data": {
      "text/plain": "<Figure size 640x480 with 1 Axes>"
     },
     "metadata": {},
     "output_type": "display_data"
    },
    {
     "data": {
      "text/plain": "<Figure size 640x480 with 1 Axes>"
     },
     "metadata": {},
     "output_type": "display_data"
    },
    {
     "data": {
      "text/plain": "<Figure size 640x480 with 1 Axes>"
     },
     "metadata": {},
     "output_type": "display_data"
    },
    {
     "data": {
      "text/plain": "<Figure size 640x480 with 1 Axes>"
     },
     "metadata": {},
     "output_type": "display_data"
    },
    {
     "data": {
      "text/plain": "<Figure size 640x480 with 1 Axes>"
     },
     "metadata": {},
     "output_type": "display_data"
    },
    {
     "data": {
      "text/plain": "<Figure size 640x480 with 1 Axes>"
     },
     "metadata": {},
     "output_type": "display_data"
    },
    {
     "data": {
      "text/plain": "<Figure size 640x480 with 1 Axes>"
     },
     "metadata": {},
     "output_type": "display_data"
    },
    {
     "data": {
      "text/plain": "<Figure size 640x480 with 1 Axes>"
     },
     "metadata": {},
     "output_type": "display_data"
    },
    {
     "data": {
      "text/plain": "<Figure size 640x480 with 1 Axes>"
     },
     "metadata": {},
     "output_type": "display_data"
    },
    {
     "data": {
      "text/plain": "<Figure size 640x480 with 1 Axes>"
     },
     "metadata": {},
     "output_type": "display_data"
    },
    {
     "data": {
      "text/plain": "<Figure size 640x480 with 1 Axes>"
     },
     "metadata": {},
     "output_type": "display_data"
    },
    {
     "data": {
      "text/plain": "<Figure size 640x480 with 1 Axes>"
     },
     "metadata": {},
     "output_type": "display_data"
    },
    {
     "data": {
      "text/plain": "<Figure size 640x480 with 1 Axes>"
     },
     "metadata": {},
     "output_type": "display_data"
    },
    {
     "data": {
      "text/plain": "<Figure size 640x480 with 1 Axes>"
     },
     "metadata": {},
     "output_type": "display_data"
    },
    {
     "data": {
      "text/plain": "<Figure size 640x480 with 1 Axes>"
     },
     "metadata": {},
     "output_type": "display_data"
    },
    {
     "data": {
      "text/plain": "<Figure size 640x480 with 1 Axes>"
     },
     "metadata": {},
     "output_type": "display_data"
    },
    {
     "data": {
      "text/plain": "<Figure size 640x480 with 1 Axes>"
     },
     "metadata": {},
     "output_type": "display_data"
    },
    {
     "data": {
      "text/plain": "<Figure size 640x480 with 1 Axes>"
     },
     "metadata": {},
     "output_type": "display_data"
    },
    {
     "data": {
      "text/plain": "<Figure size 640x480 with 1 Axes>"
     },
     "metadata": {},
     "output_type": "display_data"
    },
    {
     "data": {
      "text/plain": "<Figure size 640x480 with 1 Axes>"
     },
     "metadata": {},
     "output_type": "display_data"
    },
    {
     "data": {
      "text/plain": "<Figure size 640x480 with 1 Axes>"
     },
     "metadata": {},
     "output_type": "display_data"
    },
    {
     "data": {
      "text/plain": "<Figure size 640x480 with 1 Axes>"
     },
     "metadata": {},
     "output_type": "display_data"
    },
    {
     "data": {
      "text/plain": "<Figure size 640x480 with 1 Axes>"
     },
     "metadata": {},
     "output_type": "display_data"
    },
    {
     "data": {
      "text/plain": "<Figure size 640x480 with 1 Axes>"
     },
     "metadata": {},
     "output_type": "display_data"
    },
    {
     "data": {
      "text/plain": "<Figure size 640x480 with 1 Axes>"
     },
     "metadata": {},
     "output_type": "display_data"
    },
    {
     "data": {
      "text/plain": "<Figure size 640x480 with 1 Axes>"
     },
     "metadata": {},
     "output_type": "display_data"
    },
    {
     "data": {
      "text/plain": "<Figure size 640x480 with 1 Axes>"
     },
     "metadata": {},
     "output_type": "display_data"
    },
    {
     "data": {
      "text/plain": "<Figure size 640x480 with 1 Axes>"
     },
     "metadata": {},
     "output_type": "display_data"
    },
    {
     "data": {
      "text/plain": "<Figure size 640x480 with 1 Axes>"
     },
     "metadata": {},
     "output_type": "display_data"
    },
    {
     "data": {
      "text/plain": "<Figure size 640x480 with 1 Axes>"
     },
     "metadata": {},
     "output_type": "display_data"
    },
    {
     "data": {
      "text/plain": "<Figure size 640x480 with 1 Axes>"
     },
     "metadata": {},
     "output_type": "display_data"
    },
    {
     "data": {
      "text/plain": "<Figure size 640x480 with 1 Axes>"
     },
     "metadata": {},
     "output_type": "display_data"
    },
    {
     "data": {
      "text/plain": "<Figure size 640x480 with 1 Axes>"
     },
     "metadata": {},
     "output_type": "display_data"
    },
    {
     "data": {
      "text/plain": "<Figure size 640x480 with 1 Axes>"
     },
     "metadata": {},
     "output_type": "display_data"
    },
    {
     "data": {
      "text/plain": "<Figure size 640x480 with 1 Axes>"
     },
     "metadata": {},
     "output_type": "display_data"
    },
    {
     "data": {
      "text/plain": "<Figure size 640x480 with 1 Axes>"
     },
     "metadata": {},
     "output_type": "display_data"
    },
    {
     "data": {
      "text/plain": "<Figure size 640x480 with 1 Axes>"
     },
     "metadata": {},
     "output_type": "display_data"
    },
    {
     "data": {
      "text/plain": "<Figure size 640x480 with 1 Axes>"
     },
     "metadata": {},
     "output_type": "display_data"
    },
    {
     "data": {
      "text/plain": "<Figure size 640x480 with 1 Axes>"
     },
     "metadata": {},
     "output_type": "display_data"
    },
    {
     "data": {
      "text/plain": "<Figure size 640x480 with 1 Axes>"
     },
     "metadata": {},
     "output_type": "display_data"
    },
    {
     "data": {
      "text/plain": "<Figure size 640x480 with 1 Axes>"
     },
     "metadata": {},
     "output_type": "display_data"
    },
    {
     "data": {
      "text/plain": "<Figure size 640x480 with 1 Axes>"
     },
     "metadata": {},
     "output_type": "display_data"
    },
    {
     "data": {
      "text/plain": "<Figure size 640x480 with 1 Axes>"
     },
     "metadata": {},
     "output_type": "display_data"
    },
    {
     "data": {
      "text/plain": "<Figure size 640x480 with 1 Axes>"
     },
     "metadata": {},
     "output_type": "display_data"
    },
    {
     "data": {
      "text/plain": "<Figure size 640x480 with 1 Axes>"
     },
     "metadata": {},
     "output_type": "display_data"
    },
    {
     "data": {
      "text/plain": "<Figure size 640x480 with 1 Axes>"
     },
     "metadata": {},
     "output_type": "display_data"
    },
    {
     "data": {
      "text/plain": "<Figure size 640x480 with 1 Axes>"
     },
     "metadata": {},
     "output_type": "display_data"
    },
    {
     "data": {
      "text/plain": "<Figure size 640x480 with 1 Axes>"
     },
     "metadata": {},
     "output_type": "display_data"
    },
    {
     "data": {
      "text/plain": "<Figure size 640x480 with 1 Axes>"
     },
     "metadata": {},
     "output_type": "display_data"
    },
    {
     "data": {
      "text/plain": "<Figure size 640x480 with 1 Axes>"
     },
     "metadata": {},
     "output_type": "display_data"
    },
    {
     "data": {
      "text/plain": "<Figure size 640x480 with 1 Axes>"
     },
     "metadata": {},
     "output_type": "display_data"
    },
    {
     "data": {
      "text/plain": "<Figure size 640x480 with 1 Axes>"
     },
     "metadata": {},
     "output_type": "display_data"
    },
    {
     "data": {
      "text/plain": "<Figure size 640x480 with 1 Axes>"
     },
     "metadata": {},
     "output_type": "display_data"
    },
    {
     "data": {
      "text/plain": "<Figure size 640x480 with 1 Axes>"
     },
     "metadata": {},
     "output_type": "display_data"
    },
    {
     "data": {
      "text/plain": "<Figure size 640x480 with 1 Axes>"
     },
     "metadata": {},
     "output_type": "display_data"
    },
    {
     "data": {
      "text/plain": "<Figure size 640x480 with 1 Axes>"
     },
     "metadata": {},
     "output_type": "display_data"
    },
    {
     "data": {
      "text/plain": "<Figure size 640x480 with 1 Axes>"
     },
     "metadata": {},
     "output_type": "display_data"
    },
    {
     "data": {
      "text/plain": "<Figure size 640x480 with 1 Axes>"
     },
     "metadata": {},
     "output_type": "display_data"
    },
    {
     "data": {
      "text/plain": "<Figure size 640x480 with 1 Axes>"
     },
     "metadata": {},
     "output_type": "display_data"
    },
    {
     "data": {
      "text/plain": "<Figure size 640x480 with 1 Axes>"
     },
     "metadata": {},
     "output_type": "display_data"
    },
    {
     "data": {
      "text/plain": "<Figure size 640x480 with 1 Axes>"
     },
     "metadata": {},
     "output_type": "display_data"
    },
    {
     "data": {
      "text/plain": "<Figure size 640x480 with 1 Axes>"
     },
     "metadata": {},
     "output_type": "display_data"
    },
    {
     "data": {
      "text/plain": "<Figure size 640x480 with 1 Axes>"
     },
     "metadata": {},
     "output_type": "display_data"
    },
    {
     "data": {
      "text/plain": "<Figure size 640x480 with 1 Axes>"
     },
     "metadata": {},
     "output_type": "display_data"
    },
    {
     "data": {
      "text/plain": "<Figure size 640x480 with 1 Axes>"
     },
     "metadata": {},
     "output_type": "display_data"
    },
    {
     "data": {
      "text/plain": "<Figure size 640x480 with 1 Axes>"
     },
     "metadata": {},
     "output_type": "display_data"
    },
    {
     "data": {
      "text/plain": "<Figure size 640x480 with 1 Axes>"
     },
     "metadata": {},
     "output_type": "display_data"
    },
    {
     "data": {
      "text/plain": "<Figure size 640x480 with 1 Axes>"
     },
     "metadata": {},
     "output_type": "display_data"
    },
    {
     "data": {
      "text/plain": "<Figure size 640x480 with 1 Axes>"
     },
     "metadata": {},
     "output_type": "display_data"
    },
    {
     "data": {
      "text/plain": "<Figure size 640x480 with 1 Axes>"
     },
     "metadata": {},
     "output_type": "display_data"
    },
    {
     "data": {
      "text/plain": "<Figure size 640x480 with 1 Axes>"
     },
     "metadata": {},
     "output_type": "display_data"
    },
    {
     "data": {
      "text/plain": "<Figure size 640x480 with 1 Axes>"
     },
     "metadata": {},
     "output_type": "display_data"
    },
    {
     "data": {
      "text/plain": "<Figure size 640x480 with 1 Axes>"
     },
     "metadata": {},
     "output_type": "display_data"
    }
   ]
  },
  {
   "cell_type": "code",
   "execution_count": null,
   "outputs": [],
   "source": [
    "if __name__ == '__main__':\n",
    "    HP_DICT = {'batch_size': 7, 'step_size': 1, 'training_steps': 3, 'learning_rate': 1e-3, 'GPU': False,\n",
    "               'samples_num': 100, 'switch_points': [40, 80]}\n",
    "    NUM_OF_BATCHES = int((FRAME_NUM - HP_DICT['batch_size']) / HP_DICT['step_size']) + 1\n",
    "    errors = []\n",
    "    for i in range(3):\n",
    "        errors.append(experiment())\n",
    "    errors = np.mean(np.array(errors), axis=0)\n",
    "    plt.plot(np.linspace(0, 100, len(errors)), np.log(errors))\n",
    "    plt.show()\n"
   ],
   "metadata": {
    "collapsed": false,
    "pycharm": {
     "name": "#%%\n"
    }
   }
  }
 ]
}